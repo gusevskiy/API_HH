{
 "cells": [
  {
   "cell_type": "code",
   "execution_count": 1,
   "metadata": {},
   "outputs": [],
   "source": [
    "import requests\n",
    "from pprint import pprint"
   ]
  },
  {
   "cell_type": "markdown",
   "metadata": {},
   "source": [
    "Все поля"
   ]
  },
  {
   "cell_type": "code",
   "execution_count": 20,
   "metadata": {},
   "outputs": [
    {
     "name": "stdout",
     "output_type": "stream",
     "text": [
      "Типы занятости не найдены.\n"
     ]
    }
   ],
   "source": [
    "# Запрос к API для получения словарей\n",
    "response = requests.get('https://api.hh.ru/dictionaries')\n",
    "\n",
    "if response.status_code == 200:\n",
    "    dictionaries = response.json()\n",
    "    \n",
    "    # Извлечение данных о типах занятости\n",
    "    employment_types = dictionaries.get('skill')  # Сюда нужно написать название нужного поля.\n",
    "    if employment_types:\n",
    "        for employment in employment_types:\n",
    "            print(f\"ID: {employment['id']}, Name: {employment['name']}\")  # выдача id и обьяснения\n",
    "    else:\n",
    "        print(\"Типы занятости не найдены.\")\n",
    "else:\n",
    "    print(f\"Ошибка {response.status_code}: {response.text}\")"
   ]
  },
  {
   "cell_type": "markdown",
   "metadata": {},
   "source": []
  },
  {
   "cell_type": "markdown",
   "metadata": {},
   "source": [
    "Найти работадателя по названию, вывести название и id"
   ]
  },
  {
   "cell_type": "code",
   "execution_count": 2,
   "metadata": {},
   "outputs": [],
   "source": [
    "name_company = 'Газпром'"
   ]
  },
  {
   "cell_type": "code",
   "execution_count": 3,
   "metadata": {},
   "outputs": [
    {
     "name": "stdout",
     "output_type": "stream",
     "text": [
      "Gazprom International 2159482\n"
     ]
    }
   ],
   "source": [
    "response = requests.get(f'https://api.hh.ru/employers?text={name_company}').json()\n",
    "id_company = response['items'][0]['id']\n",
    "name_company = response['items'][0]['name']\n",
    "print(name_company, id_company)"
   ]
  },
  {
   "cell_type": "markdown",
   "metadata": {},
   "source": [
    "Все вакансии компании"
   ]
  },
  {
   "cell_type": "code",
   "execution_count": 4,
   "metadata": {},
   "outputs": [],
   "source": [
    "response = requests.get(f'https://api.hh.ru/vacancies?employer_id={id_company}').json()\n",
    "# print(response)"
   ]
  },
  {
   "cell_type": "code",
   "execution_count": 5,
   "metadata": {},
   "outputs": [
    {
     "name": "stdout",
     "output_type": "stream",
     "text": [
      "[('Главный специалист отдела оценки запасов и разработки месторождений',\n",
      "  'Санкт-Петербург'),\n",
      " ('Главный специалист отдела гидродинамического моделирования',\n",
      "  'Санкт-Петербург')]\n"
     ]
    }
   ],
   "source": [
    "data = response\n",
    "names = [(item['name'], item['area']['name']) for item in data['items']]\n",
    "pprint(names)"
   ]
  },
  {
   "cell_type": "markdown",
   "metadata": {},
   "source": [
    "Поиск вакансий по параметрам"
   ]
  },
  {
   "cell_type": "code",
   "execution_count": 24,
   "metadata": {},
   "outputs": [
    {
     "name": "stdout",
     "output_type": "stream",
     "text": [
      "Salary: N/A, ID: 98448624, Name: Middle/Senior FrontEnd developer, Area: Новосибирск\n",
      "Salary: N/A, ID: 98634417, Name: Junior python-разработчик, Area: Москва\n",
      "Salary: от 80000 RUR, ID: 98661836, Name: Frontend-разработчик, Area: Санкт-Петербург\n",
      "Salary: N/A, ID: 98674378, Name: Frontend разработчик, Area: Москва\n",
      "Salary: от 100000 RUR, ID: 97021522, Name: Frontend-разработчик, Area: Москва\n",
      "Salary: N/A, ID: 98620288, Name: Frontend-разработчик (React), Area: Москва\n",
      "Salary: N/A, ID: 98210833, Name: Frontend-разработчик, Area: Москва\n",
      "Salary: N/A, ID: 98749750, Name: Middle frontend‑разработчик в веб-студию, Area: Екатеринбург\n",
      "Salary: от 120000 RUR, ID: 98779213, Name: Frontend-разработчик (middle), Area: Томск\n",
      "Salary: от 60000 RUR, ID: 98449444, Name: Junior программист Python, Area: Москва\n"
     ]
    }
   ],
   "source": [
    "params = {\n",
    "    \"text\" : \"Программист\",\n",
    "    \"area\" : \"113\",  # Вся Россия\n",
    "    \"experience\" : \"between1And3\",  # Опыт работы\n",
    "    \"employment\" : \"full\",  # Занятость полная\n",
    "    \"fields\" : \"id,name,area,salary\",\n",
    "    \"page\" : 1,\n",
    "    \"per_page\" : 10\n",
    "}\n",
    "\n",
    "response = requests.get(\"https://api.hh.ru/vacancies\", params = params)\n",
    "# pprint(response)\n",
    "if response.status_code == 200:\n",
    "    data = response.json()\n",
    "\n",
    "    # Вывод информации о найденных вакансиях\n",
    "    for vacancy in data[\"items\"]:\n",
    "        salary = vacancy[\"salary\"]\n",
    "        # salary_info = \"\"\n",
    "        if salary:\n",
    "            salary_from = salary.get('from')\n",
    "            salary_currency = salary.get('currency')\n",
    "            print(f\"Salary: от {salary_from} {salary_currency}, ID: {vacancy['id']}, Name: {vacancy['name']}, Area: {vacancy['area']['name']}\")\n",
    "            # print(salary_info)\n",
    "        else:\n",
    "            salafy_info = 'N/A'\n",
    "            print(f\"Salary: {salafy_info}, ID: {vacancy['id']}, Name: {vacancy['name']}, Area: {vacancy['area']['name']}\")\n",
    "else:\n",
    "    print(f\"Ошибка {response.status_code}: {response.text}\")"
   ]
  },
  {
   "cell_type": "markdown",
   "metadata": {},
   "source": [
    "Поиск РЕЗЮМЕ РЕЗЮМЕ РЕЗЮМЕ РЕЗЮМЕ РЕЗЮМЕ РЕЗЮМЕ РЕЗЮМЕ РЕЗЮМЕ"
   ]
  },
  {
   "cell_type": "code",
   "execution_count": 25,
   "metadata": {},
   "outputs": [
    {
     "name": "stdout",
     "output_type": "stream",
     "text": [
      "Ошибка 403: {\"errors\":[{\"type\":\"forbidden\"}],\"request_id\":\"17155941110191ee63cd1257db52be23\"}\n"
     ]
    }
   ],
   "source": [
    "params = {\n",
    "    \"text\" : \"Менеджер\",\n",
    "    \"area\" : \"113\",\n",
    "    \"experience\" : \"between1And3\",  # Опыт работы от до\n",
    "    \"employment\" : \"full\",  # Тип занятости: 'full'-полная, 'part'-частичная, 'project'-проектная, 'volunteer'-волонтерство, 'probation'-стажировка\n",
    "    \"age_from\" : \"20\",  # Возвраст от\n",
    "    \"age_to\" : \"50\",  # Возвраст до\n",
    "    \"period\" : 360,  # Опубликованы за период\n",
    "    # \"fields\" : \"id,name,area,salary\",\n",
    "    #\"page\" : 1,  # номер страницы\n",
    "    \"per_page\" : 10  # Количество элементов выдаваемых за раз\n",
    "}\n",
    "\n",
    "response = requests.get(\"https://api.hh.ru/resumes\", params = params)\n",
    "# pprint(response)\n",
    "if response.status_code == 200:\n",
    "    data = response.json()\n",
    "    print(data)\n",
    "else:\n",
    "    print(f\"Ошибка {response.status_code}: {response.text}\")"
   ]
  }
 ],
 "metadata": {
  "kernelspec": {
   "display_name": "venv",
   "language": "python",
   "name": "python3"
  },
  "language_info": {
   "codemirror_mode": {
    "name": "ipython",
    "version": 3
   },
   "file_extension": ".py",
   "mimetype": "text/x-python",
   "name": "python",
   "nbconvert_exporter": "python",
   "pygments_lexer": "ipython3",
   "version": "3.12.2"
  }
 },
 "nbformat": 4,
 "nbformat_minor": 2
}
