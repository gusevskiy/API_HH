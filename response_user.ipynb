{
 "cells": [
  {
   "cell_type": "code",
   "execution_count": 1,
   "metadata": {},
   "outputs": [],
   "source": [
    "import requests\n",
    "from pprint import pprint"
   ]
  },
  {
   "cell_type": "code",
   "execution_count": 4,
   "metadata": {},
   "outputs": [
    {
     "name": "stdout",
     "output_type": "stream",
     "text": [
      "{'access_token': 'USERGH00ABKJ3U216CEEKIGRD4FQV11AMT67TMQ8CH820NNVLFOPUM4NVTSC1NOE',\n",
      " 'expires_in': 1209599,\n",
      " 'refresh_token': 'USERGVAOGABH3R4SOKLRMFCE7QMO6OUVRO40HGKG2FTR458T5UG0GDHRKPHA7PL3',\n",
      " 'token_type': 'bearer'}\n"
     ]
    }
   ],
   "source": [
    "params = {\n",
    "    'grant_type': 'authorization_code',\n",
    "    'client_id': 'IJ7FR2C09KCUBN3JS2M3K8OGTEAE28JJANBI8H7FB4UB0JJLAH97LMPB4OSPJD2P',\n",
    "    'client_secret': 'H53IE1PKVHSIOS92NMADISGL064IBCTCDGCUO9D6SLD3E7T2L4QFDLFR815FOU7F',\n",
    "    'code': 'V8G99GLM5O6TK8563RGMA95CH4G1MT4TTFDATMBVI2S5RTBHK12CMR22V9KV0R85'\n",
    "}\n",
    "response = requests.post('https://api.hh.ru/token', params=params)\n",
    "\n",
    "pprint(response.json())"
   ]
  }
 ],
 "metadata": {
  "kernelspec": {
   "display_name": "venv",
   "language": "python",
   "name": "python3"
  },
  "language_info": {
   "codemirror_mode": {
    "name": "ipython",
    "version": 3
   },
   "file_extension": ".py",
   "mimetype": "text/x-python",
   "name": "python",
   "nbconvert_exporter": "python",
   "pygments_lexer": "ipython3",
   "version": "3.12.3"
  }
 },
 "nbformat": 4,
 "nbformat_minor": 2
}
